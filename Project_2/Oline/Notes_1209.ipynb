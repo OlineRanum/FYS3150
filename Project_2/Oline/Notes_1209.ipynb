{
 "cells": [
  {
   "cell_type": "markdown",
   "metadata": {},
   "source": [
    "# Optimization and profiling \n"
   ]
  },
  {
   "cell_type": "markdown",
   "metadata": {},
   "source": [
    "#### Sequential Job\n",
    "single instruction SIMD, no compiler options \n",
    "\n",
    "for (i = 0; i = k; i++) {\n",
    "\n",
    "    a[i] = c[i] + b[i]\n",
    "\n",
    "}\n"
   ]
  },
  {
   "cell_type": "markdown",
   "metadata": {},
   "source": [
    "#### Compiler Flags\n",
    "\n",
    "Different compilers optimize code differently,\n",
    "compiler flags should be turned off during formulation of code\n",
    "\n",
    "#### Vectorisation \n",
    "When there is no dependence its easy\n",
    "\n",
    "\n",
    "for (zi = 0; i = k; i += 3) {\n",
    "\n",
    "    a[i] = c[i] + b[i]\n",
    "\n",
    "    a[i+1] = c[i+1] + b[i+1]\n",
    "\n",
    "    a[i+2] = c[i+2] + b[i+2]\n",
    "}\n",
    "\n",
    "Everything that is non-dependence can run in a vectorized mode\n",
    "\n",
    "If there is a call to a function you've made, the compiler will not vectorize the code. \n",
    "For instance, n has to be known at before the loop.\n",
    "The compiler does not know how to vectorize if statements\n",
    "So in loops try to avoid if statements and function calls\n",
    "\n",
    "doubble loops: inner loop should be the heavy loop. "
   ]
  },
  {
   "cell_type": "code",
   "execution_count": null,
   "metadata": {},
   "outputs": [],
   "source": []
  }
 ],
 "metadata": {
  "kernelspec": {
   "display_name": "Python 3",
   "language": "python",
   "name": "python3"
  },
  "language_info": {
   "codemirror_mode": {
    "name": "ipython",
    "version": 3
   },
   "file_extension": ".py",
   "mimetype": "text/x-python",
   "name": "python",
   "nbconvert_exporter": "python",
   "pygments_lexer": "ipython3",
   "version": "3.6.4"
  }
 },
 "nbformat": 4,
 "nbformat_minor": 2
}
