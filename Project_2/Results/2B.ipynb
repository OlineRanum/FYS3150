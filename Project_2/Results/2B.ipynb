{
 "cells": [
  {
   "cell_type": "code",
   "execution_count": 1,
   "metadata": {},
   "outputs": [],
   "source": [
    "jac = [3.687817,  3.520625, 3.53273, 3.51314, 3.536378, 3.560997, 3.567837, 4.936219, 4.872346, 3.865138 ]\n",
    "arma = [0.002251, 0.001646, 0.001579, 0.001565, 0.001629 ,0.001663, 0.001561, 0.001647,  0.003301, 0.001855]\n",
    "\n",
    "import numpy as np\n"
   ]
  },
  {
   "cell_type": "code",
   "execution_count": 2,
   "metadata": {},
   "outputs": [
    {
     "name": "stdout",
     "output_type": "stream",
     "text": [
      "10\n",
      "10\n"
     ]
    }
   ],
   "source": [
    "jac = np.array(jac)\n",
    "arma = np.array(arma)\n",
    "print(len(jac))\n",
    "print(len(arma))\n",
    "arma_m = np.mean(arma)\n",
    "jac_m = np.mean(jac)"
   ]
  },
  {
   "cell_type": "code",
   "execution_count": 3,
   "metadata": {},
   "outputs": [
    {
     "name": "stdout",
     "output_type": "stream",
     "text": [
      "0.0018697000000000002\n",
      "3.8593227\n"
     ]
    }
   ],
   "source": [
    "print(arma_m)\n",
    "print(jac_m)"
   ]
  },
  {
   "cell_type": "code",
   "execution_count": null,
   "metadata": {},
   "outputs": [],
   "source": []
  }
 ],
 "metadata": {
  "kernelspec": {
   "display_name": "Python 3",
   "language": "python",
   "name": "python3"
  },
  "language_info": {
   "codemirror_mode": {
    "name": "ipython",
    "version": 3
   },
   "file_extension": ".py",
   "mimetype": "text/x-python",
   "name": "python",
   "nbconvert_exporter": "python",
   "pygments_lexer": "ipython3",
   "version": "3.6.4"
  }
 },
 "nbformat": 4,
 "nbformat_minor": 2
}
