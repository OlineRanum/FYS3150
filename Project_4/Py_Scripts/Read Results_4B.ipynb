{
 "cells": [
  {
   "cell_type": "code",
   "execution_count": 108,
   "metadata": {},
   "outputs": [],
   "source": [
    "import numpy as np\n",
    "import pandas as pd\n",
    "import sys, os\n",
    "\n",
    "\n",
    "mypath                  = \"/home/oline/Documents/UiO/FYS3150/FYS3150/Project_4/Py_Scripts/Results/4B/\"\n",
    "\n",
    "def read_files(path):  \n",
    "    N, E, E2, M, M2, Abs_M, Chi, CV = [],[],[],[],[],[],[], []\n",
    "    for filename in os.listdir(path):\n",
    "        with open(path + filename, 'r') as infile:\n",
    "            lines = infile.readlines()[2:]\n",
    "            for line in lines:\n",
    "                line = line.split()\n",
    "                N.append(float(line[0]))\n",
    "                E.append(float(line[1]))\n",
    "                E2.append(float(line[2]))\n",
    "                M.append(float(line[3]))\n",
    "                M2.append(float(line[4]))\n",
    "                Abs_M.append(float(line[5]))\n",
    "                Chi.append(float(line[6]))\n",
    "                CV.append(float(line[7]))\n",
    "    df = pd.DataFrame({\"N\": N, \"E\": E, \"E2\": E2, \"M\": M, \"M2\": M2, \"Abs_M\": Abs_M, \"Chi\": Chi, \"CV\": CV})\n",
    "    return df\n",
    "\n",
    "Data = read_files(mypath)\n",
    "analytical_values = np.load('analytical_values.npy')"
   ]
  },
  {
   "cell_type": "code",
   "execution_count": 109,
   "metadata": {
    "scrolled": true
   },
   "outputs": [],
   "source": [
    "analytical_values[0] = analytical_values[0]/4\n",
    "analytical_values[1] = analytical_values[1]/4\n",
    "analytical_values[6] = analytical_values[6]/4\n",
    "analytical_values[5] = analytical_values[5]/4"
   ]
  },
  {
   "cell_type": "code",
   "execution_count": 110,
   "metadata": {},
   "outputs": [],
   "source": [
    "Data_10_4 = Data[(Data[\"N\"] == 10000) & (Data['E'] != 0)]\n",
    "Data_10_5 = Data[(Data[\"N\"] == 100000) & (Data['E'] != 0)]\n",
    "Data_10_6 = Data[(Data[\"N\"] == 1000000) & (Data['E'] != 0)]\n",
    "Data_10_7 = Data[(Data[\"N\"] == 10000000) & (Data['E'] != 0)]\n",
    "Data_10_8 = Data[(Data[\"N\"] == 100000000) & (Data['E'] != 0)]"
   ]
  },
  {
   "cell_type": "code",
   "execution_count": 111,
   "metadata": {},
   "outputs": [],
   "source": [
    "i = 0\n",
    "N = np.array([Data_10_4.mean()[i], Data_10_5.mean()[i],  Data_10_6.mean()[i],  Data_10_7.mean()[i],  Data_10_8.mean()[i]])\n",
    "\n",
    "i = 1\n",
    "E = np.array([Data_10_4.mean()[i], Data_10_5.mean()[i],  Data_10_6.mean()[i],  Data_10_7.mean()[i],  Data_10_8.mean()[i]])\n",
    "\n",
    "i = 2\n",
    "E2 = np.array([Data_10_4.mean()[i], Data_10_5.mean()[i],  Data_10_6.mean()[i],  Data_10_7.mean()[i],  Data_10_8.mean()[i]])\n",
    "\n",
    "i = 3\n",
    "M = np.array([Data_10_4.mean()[i], Data_10_5.mean()[i],  Data_10_6.mean()[i],  Data_10_7.mean()[i],  Data_10_8.mean()[i]])\n",
    "\n",
    "i = 4\n",
    "M2 = np.array([Data_10_4.mean()[i], Data_10_5.mean()[i],  Data_10_6.mean()[i],  Data_10_7.mean()[i],  Data_10_8.mean()[i]])\n",
    "\n",
    "i = 5\n",
    "Abs_M = np.array([Data_10_4.mean()[i], Data_10_5.mean()[i],  Data_10_6.mean()[i],  Data_10_7.mean()[i],  Data_10_8.mean()[i]])\n",
    "\n",
    "i = 6\n",
    "Chi = np.array([Data_10_4.mean()[i], Data_10_5.mean()[i],  Data_10_6.mean()[i],  Data_10_7.mean()[i],  Data_10_8.mean()[i]])\n",
    "\n",
    "i = 7\n",
    "CV = np.array([Data_10_4.mean()[i], Data_10_5.mean()[i],  Data_10_6.mean()[i],  Data_10_7.mean()[i],  Data_10_8.mean()[i]])"
   ]
  },
  {
   "cell_type": "code",
   "execution_count": 112,
   "metadata": {},
   "outputs": [],
   "source": [
    "Desimals = 4"
   ]
  },
  {
   "cell_type": "code",
   "execution_count": 113,
   "metadata": {},
   "outputs": [
    {
     "data": {
      "text/plain": [
       "array([1.e+04, 1.e+05, 1.e+06, 1.e+07, 1.e+08])"
      ]
     },
     "execution_count": 113,
     "metadata": {},
     "output_type": "execute_result"
    }
   ],
   "source": [
    "N"
   ]
  },
  {
   "cell_type": "code",
   "execution_count": 114,
   "metadata": {},
   "outputs": [
    {
     "name": "stdout",
     "output_type": "stream",
     "text": [
      "[-1.9952 -1.9963 -1.9959 -1.996  -1.996 ]\n"
     ]
    }
   ],
   "source": [
    "print(np.round(E, Desimals))"
   ]
  },
  {
   "cell_type": "code",
   "execution_count": 115,
   "metadata": {},
   "outputs": [
    {
     "name": "stdout",
     "output_type": "stream",
     "text": [
      "[15.9617 15.9701 15.9674 15.968  15.9678]\n"
     ]
    }
   ],
   "source": [
    "print(np.round(E2, Desimals))"
   ]
  },
  {
   "cell_type": "code",
   "execution_count": 116,
   "metadata": {},
   "outputs": [
    {
     "name": "stdout",
     "output_type": "stream",
     "text": [
      "[ 0.8206 -0.5715 -0.1322  0.0064  0.0201]\n"
     ]
    }
   ],
   "source": [
    "print(np.round(M, Desimals))"
   ]
  },
  {
   "cell_type": "code",
   "execution_count": 117,
   "metadata": {},
   "outputs": [
    {
     "name": "stdout",
     "output_type": "stream",
     "text": [
      "[15.968  15.9751 15.9729 15.9733 15.9732]\n"
     ]
    }
   ],
   "source": [
    "print(np.round(M2, Desimals))"
   ]
  },
  {
   "cell_type": "code",
   "execution_count": 118,
   "metadata": {},
   "outputs": [
    {
     "name": "stdout",
     "output_type": "stream",
     "text": [
      "[3.9936 3.995  3.9946 3.9947 3.9946]\n"
     ]
    }
   ],
   "source": [
    "print(np.round(Abs_M, Desimals))"
   ]
  },
  {
   "cell_type": "code",
   "execution_count": 119,
   "metadata": {},
   "outputs": [
    {
     "name": "stdout",
     "output_type": "stream",
     "text": [
      "[0.0381 0.0298 0.0325 0.032  0.0321]\n"
     ]
    }
   ],
   "source": [
    "print(np.round(Chi, Desimals))"
   ]
  },
  {
   "cell_type": "code",
   "execution_count": 120,
   "metadata": {},
   "outputs": [
    {
     "name": "stdout",
     "output_type": "stream",
     "text": [
      "[1.6071 3.5324 3.9499 3.9908 3.9928]\n"
     ]
    }
   ],
   "source": [
    "print(np.round(CV, Desimals))"
   ]
  },
  {
   "cell_type": "code",
   "execution_count": 121,
   "metadata": {},
   "outputs": [],
   "source": [
    "with open('Results/4B/Average_results.txt', 'w') as outfile:\n",
    "    outfile.write('N        E  E2  M  M2   Abs_M  Chi  CV\\n')\n",
    "    for i in range(5):\n",
    "        outfile.write(str(np.round(N[i], Desimals)) + '             ' + str(np.round(E[i], Desimals))+'    ' + str(np.round(E2[i], Desimals)) + '    ' + str(np.round(M[i], Desimals)) + '    ' + str(np.round(M2[i], Desimals)) + '    ' + str(np.round(Abs_M[i], Desimals)) + '   ' + str(np.round(Chi[i], Desimals))+ '    ' + str(np.round(CV[i], Desimals)) + '\\n')\n",
    "    outfile.write('\\n')\n",
    "    outfile.write('Analytical values ' + str(np.round(analytical_values , 4))[1:-1]+'\\n')\n",
    "    "
   ]
  },
  {
   "cell_type": "code",
   "execution_count": 122,
   "metadata": {},
   "outputs": [
    {
     "data": {
      "text/plain": [
       "'10000.0'"
      ]
     },
     "execution_count": 122,
     "metadata": {},
     "output_type": "execute_result"
    }
   ],
   "source": [
    "str(N[0])"
   ]
  },
  {
   "cell_type": "code",
   "execution_count": 123,
   "metadata": {},
   "outputs": [],
   "source": [
    "with open('Results/4B/Average_results_tex.txt', 'w') as outfile:\n",
    "    outfile.write('\\textbf{N}  \\textbf{E}  \\textbf{E2}  \\textbf{M}  \\textbf{M2}   \\textbf{Abs_M}  \\textbf{Chi}  \\textbf{C}$_V$ \\n')\n",
    "    for i in range(5):\n",
    "        outfile.write(str(np.round(N[i], Desimals)) + '   &          ' + str(np.round(E[i], Desimals))+'   & ' + str(np.round(E2[i], Desimals)) + '  &  ' + str(np.round(M[i], Desimals)) + ' &   ' + str(np.round(M2[i], Desimals)) + ' &   ' + str(np.round(Abs_M[i], Desimals)) + '&   ' + str(np.round(Chi[i], Desimals))+ ' &   ' + str(np.round(CV[i], Desimals)) + '\\\\\\\\ \\n')\n",
    "    outfile.write('\\n')\n",
    "    outfile.write('Analytical values ' + str(np.round(analytical_values , 4))[1:-1]+'\\n')\n",
    "     "
   ]
  },
  {
   "cell_type": "code",
   "execution_count": null,
   "metadata": {},
   "outputs": [],
   "source": []
  },
  {
   "cell_type": "code",
   "execution_count": null,
   "metadata": {},
   "outputs": [],
   "source": []
  },
  {
   "cell_type": "code",
   "execution_count": null,
   "metadata": {},
   "outputs": [],
   "source": []
  },
  {
   "cell_type": "code",
   "execution_count": null,
   "metadata": {},
   "outputs": [],
   "source": []
  },
  {
   "cell_type": "code",
   "execution_count": null,
   "metadata": {},
   "outputs": [],
   "source": []
  },
  {
   "cell_type": "code",
   "execution_count": null,
   "metadata": {},
   "outputs": [],
   "source": []
  },
  {
   "cell_type": "code",
   "execution_count": null,
   "metadata": {},
   "outputs": [],
   "source": []
  },
  {
   "cell_type": "code",
   "execution_count": null,
   "metadata": {},
   "outputs": [],
   "source": []
  }
 ],
 "metadata": {
  "kernelspec": {
   "display_name": "Python 3",
   "language": "python",
   "name": "python3"
  },
  "language_info": {
   "codemirror_mode": {
    "name": "ipython",
    "version": 3
   },
   "file_extension": ".py",
   "mimetype": "text/x-python",
   "name": "python",
   "nbconvert_exporter": "python",
   "pygments_lexer": "ipython3",
   "version": "3.6.4"
  }
 },
 "nbformat": 4,
 "nbformat_minor": 2
}
