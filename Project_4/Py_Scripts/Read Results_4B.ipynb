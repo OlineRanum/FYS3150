{
 "cells": [
  {
   "cell_type": "code",
   "execution_count": 2,
   "metadata": {},
   "outputs": [],
   "source": [
    "import numpy as np\n",
    "import pandas as pd\n",
    "import sys, os\n",
    "\n",
    "\n",
    "mypath                  = \"/home/oline/Documents/UiO/FYS3150/FYS3150/Project_4/Py_Scripts/Results/4B/\"\n",
    "\n",
    "def read_files(path):  \n",
    "    N, E, E2, M, M2, Abs_M, Chi, CV = [],[],[],[],[],[],[], []\n",
    "    for filename in os.listdir(path):\n",
    "        with open(path + filename, 'r') as infile:\n",
    "            lines = infile.readlines()[2:]\n",
    "            for line in lines:\n",
    "                line = line.split()\n",
    "                N.append(float(line[0]))\n",
    "                E.append(float(line[1]))\n",
    "                E2.append(float(line[2]))\n",
    "                M.append(float(line[3]))\n",
    "                M2.append(float(line[4]))\n",
    "                Abs_M.append(float(line[5]))\n",
    "                Chi.append(float(line[6]))\n",
    "                CV.append(float(line[7]))\n",
    "    df = pd.DataFrame({\"N\": N, \"E\": E, \"E2\": E2, \"M\": M, \"M2\": M2, \"Abs_M\": Abs_M, \"Chi\": Chi, \"CV\": CV})\n",
    "    return df\n",
    "\n",
    "Data = read_files(mypath)\n",
    "analytical_values = np.load('analytical_values.npy')"
   ]
  },
  {
   "cell_type": "code",
   "execution_count": 3,
   "metadata": {
    "scrolled": true
   },
   "outputs": [],
   "source": [
    "analytical_values[0] = analytical_values[0]/4\n",
    "analytical_values[1] = analytical_values[1]/4\n",
    "analytical_values[2] = analytical_values[2]/4\n",
    "analytical_values[3] = analytical_values[3]/4\n",
    "analytical_values[4] = analytical_values[4]/4\n",
    "analytical_values[5] = analytical_values[5]/4\n",
    "analytical_values[6] = analytical_values[6]/4"
   ]
  },
  {
   "cell_type": "code",
   "execution_count": 4,
   "metadata": {},
   "outputs": [],
   "source": [
    "Data_10_4 = Data[(Data[\"N\"] == 10000) & (Data['E'] != 0)]\n",
    "Data_10_5 = Data[(Data[\"N\"] == 100000) & (Data['E'] != 0)]\n",
    "Data_10_6 = Data[(Data[\"N\"] == 1000000) & (Data['E'] != 0)]\n",
    "Data_10_7 = Data[(Data[\"N\"] == 10000000) & (Data['E'] != 0)]\n",
    "Data_10_8 = Data[(Data[\"N\"] == 100000000) & (Data['E'] != 0)]"
   ]
  },
  {
   "cell_type": "code",
   "execution_count": 9,
   "metadata": {},
   "outputs": [],
   "source": [
    "analytical_values[4]\n",
    "\n",
    "Desimals = 4"
   ]
  },
  {
   "cell_type": "code",
   "execution_count": 6,
   "metadata": {},
   "outputs": [],
   "source": [
    "i = 0\n",
    "N = np.array([Data_10_4.mean()[i], Data_10_5.mean()[i],  Data_10_6.mean()[i],  Data_10_7.mean()[i],  Data_10_8.mean()[i]])\n",
    "\n",
    "i = 1\n",
    "E = np.array([Data_10_4.mean()[i], Data_10_5.mean()[i],  Data_10_6.mean()[i],  Data_10_7.mean()[i],  Data_10_8.mean()[i]])\n",
    "\n",
    "i = 2\n",
    "E2 = np.array([Data_10_4.mean()[i], Data_10_5.mean()[i],  Data_10_6.mean()[i],  Data_10_7.mean()[i],  Data_10_8.mean()[i]])\n",
    "\n",
    "i = 3\n",
    "M = np.array([Data_10_4.mean()[i], Data_10_5.mean()[i],  Data_10_6.mean()[i],  Data_10_7.mean()[i],  Data_10_8.mean()[i]])\n",
    "\n",
    "i = 4\n",
    "M2 = np.array([Data_10_4.mean()[i], Data_10_5.mean()[i],  Data_10_6.mean()[i],  Data_10_7.mean()[i],  Data_10_8.mean()[i]])\n",
    "\n",
    "i = 5\n",
    "Abs_M = np.array([Data_10_4.mean()[i], Data_10_5.mean()[i],  Data_10_6.mean()[i],  Data_10_7.mean()[i],  Data_10_8.mean()[i]])\n",
    "\n",
    "i = 6\n",
    "Chi = np.array([Data_10_4.mean()[i], Data_10_5.mean()[i],  Data_10_6.mean()[i],  Data_10_7.mean()[i],  Data_10_8.mean()[i]])\n",
    "\n",
    "i = 7\n",
    "CV = np.array([Data_10_4.mean()[i], Data_10_5.mean()[i],  Data_10_6.mean()[i],  Data_10_7.mean()[i],  Data_10_8.mean()[i]])"
   ]
  },
  {
   "cell_type": "code",
   "execution_count": 12,
   "metadata": {},
   "outputs": [
    {
     "name": "stdout",
     "output_type": "stream",
     "text": [
      "[-0.0007 -0.0004 -0.0001 -0.     -0.    ]\n"
     ]
    }
   ],
   "source": [
    "def rel_err(u,v):\n",
    "    return abs(u-v)/u\n",
    "\n",
    "E_err = rel_err(analytical_values[0], E)\n",
    "print(np.round(E_err, Desimals))"
   ]
  },
  {
   "cell_type": "code",
   "execution_count": 20,
   "metadata": {},
   "outputs": [
    {
     "name": "stdout",
     "output_type": "stream",
     "text": [
      "[0.007  0.0074 0.0078 0.0077 0.0078]\n",
      "[inf inf inf inf inf]\n",
      "[0.0006 0.0003 0.0001 0.     0.    ]\n",
      "[0.0012 0.0009 0.0006 0.0007 0.0007]\n",
      "[0.3546 0.1889 0.0352 0.0033 0.001 ]\n",
      "[0.5537 0.0495 0.012  0.0009 0.    ]\n"
     ]
    },
    {
     "name": "stderr",
     "output_type": "stream",
     "text": [
      "/home/oline/anaconda3/lib/python3.6/site-packages/ipykernel_launcher.py:2: RuntimeWarning: divide by zero encountered in true_divide\n",
      "  \n"
     ]
    }
   ],
   "source": [
    "E2_err = rel_err(analytical_values[1], E2)\n",
    "print(np.round(E2_err, Desimals))\n",
    "\n",
    "\n",
    "M_err = rel_err(analytical_values[2], M)\n",
    "print(np.round(M_err, Desimals))\n",
    "\n",
    "\n",
    "M2_err = rel_err(analytical_values[3], M2)\n",
    "print(np.round(M2_err, Desimals))\n",
    "\n",
    "Abs_M_err = rel_err(analytical_values[4], Abs_M)\n",
    "print(np.round(Abs_M_err, Desimals))\n",
    "\n",
    "Chi_err = rel_err(analytical_values[5], Chi)\n",
    "print(np.round(Chi_err, Desimals))\n",
    "\n",
    "CV_err = rel_err(analytical_values[6], CV)\n",
    "print(np.round(CV_err, Desimals))"
   ]
  },
  {
   "cell_type": "code",
   "execution_count": 60,
   "metadata": {},
   "outputs": [
    {
     "name": "stdout",
     "output_type": "stream",
     "text": [
      "[-1.9974 -1.9967 -1.9958 -1.996  -1.996 ]\n"
     ]
    }
   ],
   "source": [
    "print(np.round(E, Desimals))"
   ]
  },
  {
   "cell_type": "code",
   "execution_count": 61,
   "metadata": {},
   "outputs": [
    {
     "name": "stdout",
     "output_type": "stream",
     "text": [
      "[15.9793 15.9739 15.9667 15.968  15.9678]\n"
     ]
    }
   ],
   "source": [
    "print(np.round(E2, Desimals))"
   ]
  },
  {
   "cell_type": "code",
   "execution_count": 62,
   "metadata": {},
   "outputs": [
    {
     "name": "stdout",
     "output_type": "stream",
     "text": [
      "[ 0.6353 -0.0309 -0.0351 -0.0037 -0.0015]\n"
     ]
    }
   ],
   "source": [
    "print(np.round(M, Desimals))"
   ]
  },
  {
   "cell_type": "code",
   "execution_count": 63,
   "metadata": {},
   "outputs": [
    {
     "name": "stdout",
     "output_type": "stream",
     "text": [
      "[3.9958 3.9946 3.9931 3.9933 3.9933]\n"
     ]
    }
   ],
   "source": [
    "print(np.round(M2, Desimals))"
   ]
  },
  {
   "cell_type": "code",
   "execution_count": 64,
   "metadata": {},
   "outputs": [
    {
     "name": "stdout",
     "output_type": "stream",
     "text": [
      "[0.9992 0.9989 0.9986 0.9987 0.9987]\n"
     ]
    }
   ],
   "source": [
    "print(np.round(Abs_M, Desimals))"
   ]
  },
  {
   "cell_type": "code",
   "execution_count": 65,
   "metadata": {},
   "outputs": [
    {
     "name": "stdout",
     "output_type": "stream",
     "text": [
      "[0.0207 0.026  0.0332 0.032  0.0321]\n"
     ]
    }
   ],
   "source": [
    "print(np.round(Chi, Desimals))"
   ]
  },
  {
   "cell_type": "code",
   "execution_count": 66,
   "metadata": {},
   "outputs": [
    {
     "name": "stdout",
     "output_type": "stream",
     "text": [
      "[1.7822 3.7958 3.9452 3.9897 3.9931]\n"
     ]
    }
   ],
   "source": [
    "print(np.round(CV, Desimals))"
   ]
  },
  {
   "cell_type": "code",
   "execution_count": 67,
   "metadata": {},
   "outputs": [],
   "source": [
    "with open('Results/4B/Average_results.txt', 'w') as outfile:\n",
    "    outfile.write('N        E  E2  M  M2   Abs_M  Chi  CV\\n')\n",
    "    for i in range(5):\n",
    "        outfile.write(str(np.round(N[i], Desimals)) + '             ' + str(np.round(E[i], Desimals))+'    ' + str(np.round(E2[i], Desimals)) + '    ' + str(np.round(M[i], Desimals)) + '    ' + str(np.round(M2[i], Desimals)) + '    ' + str(np.round(Abs_M[i], Desimals)) + '   ' + str(np.round(Chi[i], Desimals))+ '    ' + str(np.round(CV[i], Desimals)) + '\\n')\n",
    "    outfile.write('\\n')\n",
    "    outfile.write('Analytical values ' + str(np.round(analytical_values , 4))[1:-1]+'\\n')\n",
    "    "
   ]
  },
  {
   "cell_type": "code",
   "execution_count": 68,
   "metadata": {},
   "outputs": [
    {
     "data": {
      "text/plain": [
       "'10000.0'"
      ]
     },
     "execution_count": 68,
     "metadata": {},
     "output_type": "execute_result"
    }
   ],
   "source": []
  },
  {
   "cell_type": "code",
   "execution_count": 69,
   "metadata": {},
   "outputs": [],
   "source": [
    "with open('Results/4B/Average_results_tex.txt', 'w') as outfile:\n",
    "    outfile.write('\\textbf{N}  \\textbf{E}  \\textbf{E2}  \\textbf{M}  \\textbf{M2}   \\textbf{Abs_M}  \\textbf{Chi}  \\textbf{C}$_V$ \\n')\n",
    "    for i in range(5):\n",
    "        outfile.write(str(np.round(N[i], Desimals)) + '   &          ' + str(np.round(E[i], Desimals))+'   & ' + str(np.round(E2[i], Desimals)) + '  &  ' + str(np.round(M[i], Desimals)) + ' &   ' + str(np.round(M2[i], Desimals)) + ' &   ' + str(np.round(Abs_M[i], Desimals)) + '&   ' + str(np.round(Chi[i], Desimals))+ ' &   ' + str(np.round(CV[i], Desimals)) + '\\\\\\\\ \\n')\n",
    "    outfile.write('\\n')\n",
    "    outfile.write('Analytical values ' + str(np.round(analytical_values , 4))[1:-1]+'\\n')\n",
    "     "
   ]
  },
  {
   "cell_type": "code",
   "execution_count": 21,
   "metadata": {},
   "outputs": [],
   "source": [
    "with open('Results/4B/Average_results_err_tex.txt', 'w') as outfile:\n",
    "    outfile.write('\\textbf{N}  \\textbf{E}  \\textbf{E2}  \\textbf{M}  \\textbf{M2}   \\textbf{Abs_M}  \\textbf{Chi}  \\textbf{C}$_V$ \\n')\n",
    "    for i in range(5):\n",
    "        outfile.write(str(np.round(N[i], Desimals)) + '   &          ' + str(np.round(E_err[i], Desimals))+'   & ' + str(np.round(E2_err[i], Desimals)) + '  &  ' + str(np.round(M_err[i], Desimals)) + ' &   ' + str(np.round(M2_err[i], Desimals)) + ' &   ' + str(np.round(Abs_M_err[i], Desimals)) + '&   ' + str(np.round(Chi_err[i], Desimals))+ ' &   ' + str(np.round(CV_err[i], Desimals)) + '\\\\\\\\ \\n')\n",
    "    outfile.write('\\n')\n",
    "    outfile.write('Analytical values ' + str(np.round(analytical_values , 4))[1:-1]+'\\n')\n",
    "     "
   ]
  },
  {
   "cell_type": "code",
   "execution_count": null,
   "metadata": {},
   "outputs": [],
   "source": []
  },
  {
   "cell_type": "code",
   "execution_count": null,
   "metadata": {},
   "outputs": [],
   "source": []
  },
  {
   "cell_type": "code",
   "execution_count": null,
   "metadata": {},
   "outputs": [],
   "source": []
  },
  {
   "cell_type": "code",
   "execution_count": null,
   "metadata": {},
   "outputs": [],
   "source": []
  },
  {
   "cell_type": "code",
   "execution_count": null,
   "metadata": {},
   "outputs": [],
   "source": []
  },
  {
   "cell_type": "code",
   "execution_count": null,
   "metadata": {},
   "outputs": [],
   "source": []
  },
  {
   "cell_type": "code",
   "execution_count": null,
   "metadata": {},
   "outputs": [],
   "source": []
  }
 ],
 "metadata": {
  "kernelspec": {
   "display_name": "Python 3",
   "language": "python",
   "name": "python3"
  },
  "language_info": {
   "codemirror_mode": {
    "name": "ipython",
    "version": 3
   },
   "file_extension": ".py",
   "mimetype": "text/x-python",
   "name": "python",
   "nbconvert_exporter": "python",
   "pygments_lexer": "ipython3",
   "version": "3.6.4"
  }
 },
 "nbformat": 4,
 "nbformat_minor": 2
}
