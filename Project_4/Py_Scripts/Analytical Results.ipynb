{
 "cells": [
  {
   "cell_type": "code",
   "execution_count": 22,
   "metadata": {},
   "outputs": [],
   "source": [
    "import numpy as np \n",
    "import matplotlib.pyplot as plt\n"
   ]
  },
  {
   "cell_type": "code",
   "execution_count": 26,
   "metadata": {},
   "outputs": [],
   "source": [
    "J = 1\n",
    "T = 1\n",
    "k_b = 1\n",
    "\n",
    "beta_ = 1/(k_b*T)\n",
    "\n",
    "x_ = 8*J*beta_\n",
    "\n",
    "\n",
    "def Z_func(x):\n",
    "    return 4*np.cosh(x) + 12\n",
    "\n",
    "Z_val = Z_func(x_)\n",
    "\n",
    "def expval_E(Z, x):\n",
    "    return -32*J*np.sinh(x)/Z\n",
    "\n",
    "def expval_E2(Z, x):\n",
    "    return 258*J*J*np.cosh(x)/Z\n",
    "\n",
    "def abs_M(Z, x):\n",
    "    return 2*np.exp(x)/(np.cosh(x) + 3)\n",
    "\n",
    "def M2(Z, x):\n",
    "    return (8*np.exp(x) + 8)/(np.cosh(x) + 3)\n",
    "\n",
    "\n",
    "def chi(beta, Z, x):\n",
    "    return beta/T*(8*np.exp(x) + 8)/(np.cosh(x) + 3)\n",
    "\n",
    "def C_V(beta, Z, x):\n",
    "    return beta/T*64*J**2*(np.cosh(x)/(np.cosh(x) + 3) - (np.sinh(x)/(np.cosh(x)+3))**2)\n"
   ]
  },
  {
   "cell_type": "code",
   "execution_count": 27,
   "metadata": {},
   "outputs": [
    {
     "data": {
      "text/plain": [
       "5973.916645008712"
      ]
     },
     "execution_count": 27,
     "metadata": {},
     "output_type": "execute_result"
    }
   ],
   "source": [
    "Z_val"
   ]
  },
  {
   "cell_type": "code",
   "execution_count": 28,
   "metadata": {},
   "outputs": [
    {
     "data": {
      "text/plain": [
       "-7.98392834374676"
      ]
     },
     "execution_count": 28,
     "metadata": {},
     "output_type": "execute_result"
    }
   ],
   "source": [
    "expval_E(Z_val, x_)"
   ]
  },
  {
   "cell_type": "code",
   "execution_count": 29,
   "metadata": {},
   "outputs": [
    {
     "data": {
      "text/plain": [
       "64.37043675933332"
      ]
     },
     "execution_count": 29,
     "metadata": {},
     "output_type": "execute_result"
    }
   ],
   "source": [
    "expval_E2(Z_val, x_)"
   ]
  },
  {
   "cell_type": "code",
   "execution_count": 30,
   "metadata": {},
   "outputs": [
    {
     "data": {
      "text/plain": [
       "3.991964621109816"
      ]
     },
     "execution_count": 30,
     "metadata": {},
     "output_type": "execute_result"
    }
   ],
   "source": [
    "abs_M(Z_val, x_)"
   ]
  },
  {
   "cell_type": "code",
   "execution_count": 31,
   "metadata": {},
   "outputs": [
    {
     "data": {
      "text/plain": [
       "15.973215104208428"
      ]
     },
     "execution_count": 31,
     "metadata": {},
     "output_type": "execute_result"
    }
   ],
   "source": [
    "M2(Z_val, x_)"
   ]
  },
  {
   "cell_type": "code",
   "execution_count": 32,
   "metadata": {},
   "outputs": [
    {
     "data": {
      "text/plain": [
       "0.12832932745715198"
      ]
     },
     "execution_count": 32,
     "metadata": {},
     "output_type": "execute_result"
    }
   ],
   "source": [
    "C_V(beta_, Z_val, x_)"
   ]
  },
  {
   "cell_type": "code",
   "execution_count": 33,
   "metadata": {},
   "outputs": [
    {
     "data": {
      "text/plain": [
       "15.973215104208428"
      ]
     },
     "execution_count": 33,
     "metadata": {},
     "output_type": "execute_result"
    }
   ],
   "source": [
    "chi(beta_, Z_val, x_)"
   ]
  },
  {
   "cell_type": "code",
   "execution_count": 35,
   "metadata": {},
   "outputs": [
    {
     "data": {
      "text/plain": [
       "0.6273249612504372"
      ]
     },
     "execution_count": 35,
     "metadata": {},
     "output_type": "execute_result"
    }
   ],
   "source": [
    "expval_E2(Z_val, x_) - expval_E(Z_val, x_)**2"
   ]
  },
  {
   "cell_type": "code",
   "execution_count": 36,
   "metadata": {},
   "outputs": [],
   "source": [
    "Analytical_values = np.array([expval_E(Z_val, x_), expval_E2(Z_val, x_), 0,  M2(Z_val, x_), abs_M(Z_val, x_), chi(beta_, Z_val, x_), C_V(beta_, Z_val, x_)])"
   ]
  },
  {
   "cell_type": "code",
   "execution_count": 38,
   "metadata": {},
   "outputs": [],
   "source": [
    "np.save('analytical_values', Analytical_values)"
   ]
  },
  {
   "cell_type": "code",
   "execution_count": null,
   "metadata": {},
   "outputs": [],
   "source": []
  }
 ],
 "metadata": {
  "kernelspec": {
   "display_name": "Python 3",
   "language": "python",
   "name": "python3"
  },
  "language_info": {
   "codemirror_mode": {
    "name": "ipython",
    "version": 3
   },
   "file_extension": ".py",
   "mimetype": "text/x-python",
   "name": "python",
   "nbconvert_exporter": "python",
   "pygments_lexer": "ipython3",
   "version": "3.6.4"
  }
 },
 "nbformat": 4,
 "nbformat_minor": 2
}
